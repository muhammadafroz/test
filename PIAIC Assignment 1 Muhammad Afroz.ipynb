{
 "cells": [
  {
   "cell_type": "markdown",
   "metadata": {},
   "source": [
    "# Q1:"
   ]
  },
  {
   "cell_type": "raw",
   "metadata": {},
   "source": [
    "Store a message in a variable, and then print that\n",
    "message."
   ]
  },
  {
   "cell_type": "code",
   "execution_count": 8,
   "metadata": {},
   "outputs": [],
   "source": [
    "a = \"Hello Everyone\""
   ]
  },
  {
   "cell_type": "code",
   "execution_count": 9,
   "metadata": {},
   "outputs": [
    {
     "name": "stdout",
     "output_type": "stream",
     "text": [
      "Hello Everyone\n"
     ]
    }
   ],
   "source": [
    "print(a)"
   ]
  },
  {
   "cell_type": "markdown",
   "metadata": {},
   "source": [
    "# Q2:"
   ]
  },
  {
   "cell_type": "raw",
   "metadata": {},
   "source": [
    "Store a message in a variable, and print that message.\n",
    "Then change the value of your variable to a new message, and print the new\n",
    "message."
   ]
  },
  {
   "cell_type": "code",
   "execution_count": 11,
   "metadata": {},
   "outputs": [
    {
     "name": "stdout",
     "output_type": "stream",
     "text": [
      "hello everyone\n",
      "how are you all\n"
     ]
    }
   ],
   "source": [
    "message = 'hello everyone'\n",
    "print(message)\n",
    "message = 'how are you all'\n",
    "print(message)"
   ]
  },
  {
   "cell_type": "markdown",
   "metadata": {},
   "source": [
    "# Q3:"
   ]
  },
  {
   "cell_type": "raw",
   "metadata": {},
   "source": [
    "Store a person’s name in a variable, and print a message to that person. Your message should be simple, such as, “Hello Shahzad,\n",
    "would you like to learn some Python today?”"
   ]
  },
  {
   "cell_type": "code",
   "execution_count": 12,
   "metadata": {},
   "outputs": [],
   "source": [
    "name = \"Muhammad Afroz\""
   ]
  },
  {
   "cell_type": "code",
   "execution_count": 13,
   "metadata": {},
   "outputs": [
    {
     "name": "stdout",
     "output_type": "stream",
     "text": [
      "Hello Muhammad Afroz , would you like to learn some python today?\n"
     ]
    }
   ],
   "source": [
    "print(\"Hello\", name ,\", would you like to learn some python today?\")"
   ]
  },
  {
   "cell_type": "markdown",
   "metadata": {},
   "source": [
    "# Q4:"
   ]
  },
  {
   "cell_type": "raw",
   "metadata": {},
   "source": [
    "Store a person’s name in a variable, and then print that person’s name in lowercase, uppercase, and titlecase."
   ]
  },
  {
   "cell_type": "code",
   "execution_count": 16,
   "metadata": {},
   "outputs": [],
   "source": [
    "name = \"MuHaMmAd aFroZ khAn\""
   ]
  },
  {
   "cell_type": "code",
   "execution_count": 17,
   "metadata": {},
   "outputs": [],
   "source": [
    "a=name.title()\n",
    "b=name.lower()\n",
    "c=name.upper()"
   ]
  },
  {
   "cell_type": "code",
   "execution_count": 18,
   "metadata": {},
   "outputs": [
    {
     "name": "stdout",
     "output_type": "stream",
     "text": [
      "Titlecase :  Muhammad Afroz Khan\n",
      "Lowercase :  muhammad afroz khan\n",
      "Uppercase :  MUHAMMAD AFROZ KHAN\n"
     ]
    }
   ],
   "source": [
    "print(\"Titlecase : \",a)\n",
    "print(\"Lowercase : \",b)\n",
    "print(\"Uppercase : \",c)"
   ]
  },
  {
   "cell_type": "markdown",
   "metadata": {},
   "source": [
    "# Q5:"
   ]
  },
  {
   "cell_type": "raw",
   "metadata": {},
   "source": [
    "Find a quote from a famous person you admire. Print the\n",
    "quote and the name of its author. Your output should look something like the\n",
    "following, including the quotation marks:\n",
    "    \n",
    "    \n",
    "Albert Einstein once said, “A person who never made a\n",
    "mistake never tried anything new.”"
   ]
  },
  {
   "cell_type": "code",
   "execution_count": 19,
   "metadata": {},
   "outputs": [],
   "source": [
    "name = (\"Anonymous\")"
   ]
  },
  {
   "cell_type": "code",
   "execution_count": 20,
   "metadata": {},
   "outputs": [
    {
     "name": "stdout",
     "output_type": "stream",
     "text": [
      "\"Quote by Anonymous, \n",
      "Everyone is a moon and has a dark side which he never shows to anybody.\"\n"
     ]
    }
   ],
   "source": [
    "print(\"\\\"Quote by \" + name + \", \\nEveryone is a moon and has a dark side which he never shows to anybody.\\\"\")"
   ]
  },
  {
   "cell_type": "markdown",
   "metadata": {},
   "source": [
    "# Q6:"
   ]
  },
  {
   "cell_type": "raw",
   "metadata": {},
   "source": [
    "Write addition, subtraction, multiplication, and division\n",
    "operations that each result in the number 8. Be sure to enclose your operations\n",
    "in print statements to see the results. You should create four lines that look\n",
    "like this:\n",
    "    \n",
    "    \n",
    "print(5 + 3)"
   ]
  },
  {
   "cell_type": "code",
   "execution_count": 21,
   "metadata": {},
   "outputs": [
    {
     "name": "stdout",
     "output_type": "stream",
     "text": [
      "8\n"
     ]
    }
   ],
   "source": [
    "print(5+3)"
   ]
  },
  {
   "cell_type": "code",
   "execution_count": 22,
   "metadata": {},
   "outputs": [
    {
     "name": "stdout",
     "output_type": "stream",
     "text": [
      "8\n"
     ]
    }
   ],
   "source": [
    "print(10-2)"
   ]
  },
  {
   "cell_type": "code",
   "execution_count": 23,
   "metadata": {},
   "outputs": [
    {
     "name": "stdout",
     "output_type": "stream",
     "text": [
      "8\n"
     ]
    }
   ],
   "source": [
    "print(2*4)"
   ]
  },
  {
   "cell_type": "code",
   "execution_count": 25,
   "metadata": {},
   "outputs": [
    {
     "name": "stdout",
     "output_type": "stream",
     "text": [
      "8.0\n"
     ]
    }
   ],
   "source": [
    "print(16/2)"
   ]
  },
  {
   "cell_type": "markdown",
   "metadata": {},
   "source": [
    "# Q7:"
   ]
  },
  {
   "cell_type": "raw",
   "metadata": {},
   "source": [
    "Create a variable called number1 with the value of 8.\n",
    "Write a print statement to print number1 multiplied by 9."
   ]
  },
  {
   "cell_type": "code",
   "execution_count": 26,
   "metadata": {},
   "outputs": [],
   "source": [
    "number1 = 8"
   ]
  },
  {
   "cell_type": "code",
   "execution_count": 27,
   "metadata": {},
   "outputs": [
    {
     "name": "stdout",
     "output_type": "stream",
     "text": [
      "Answer :  72\n"
     ]
    }
   ],
   "source": [
    "print(\"Answer : \", number1 * 9)"
   ]
  },
  {
   "cell_type": "markdown",
   "metadata": {},
   "source": [
    "# Q8:"
   ]
  },
  {
   "cell_type": "raw",
   "metadata": {},
   "source": [
    "Store your favorite number in a variable. Then, using\n",
    "that variable, create a message that reveals your favorite number. Print that\n",
    "message."
   ]
  },
  {
   "cell_type": "code",
   "execution_count": 9,
   "metadata": {},
   "outputs": [],
   "source": [
    "myfvtno = 6"
   ]
  },
  {
   "cell_type": "code",
   "execution_count": 10,
   "metadata": {},
   "outputs": [
    {
     "name": "stdout",
     "output_type": "stream",
     "text": [
      "My favorite number is 6\n"
     ]
    }
   ],
   "source": [
    "print(\"My favorite number is \" + str(myfvtno))"
   ]
  },
  {
   "cell_type": "markdown",
   "metadata": {},
   "source": [
    "# Q9:"
   ]
  },
  {
   "cell_type": "raw",
   "metadata": {},
   "source": [
    "Store your name and your age in a varibale called my_name and my_age.\n",
    "Use format method to print your name and your age.\n",
    "Your final output sholud be like this:\n",
    "\n",
    "OUTPUT:    \n",
    "My name is Shahzad Ahsan and my age is 21.\n",
    "\n",
    "NOTE:Use both of the format methods which were discuss in the class."
   ]
  },
  {
   "cell_type": "code",
   "execution_count": 13,
   "metadata": {},
   "outputs": [],
   "source": [
    "my_name = (\"Muhammad Afroz \")"
   ]
  },
  {
   "cell_type": "code",
   "execution_count": 14,
   "metadata": {},
   "outputs": [],
   "source": [
    "my_age = 19"
   ]
  },
  {
   "cell_type": "code",
   "execution_count": 15,
   "metadata": {},
   "outputs": [
    {
     "name": "stdout",
     "output_type": "stream",
     "text": [
      "My name is Muhammad Afroz and my age is 19\n"
     ]
    }
   ],
   "source": [
    "print (\"My name is \" + my_name + \"and my age is \" + str(my_age) )"
   ]
  },
  {
   "cell_type": "markdown",
   "metadata": {},
   "source": [
    "# Q10:"
   ]
  },
  {
   "cell_type": "raw",
   "metadata": {},
   "source": [
    "Write a Python program to check if a number is positive, negative or zero."
   ]
  },
  {
   "cell_type": "code",
   "execution_count": 17,
   "metadata": {},
   "outputs": [
    {
     "name": "stdout",
     "output_type": "stream",
     "text": [
      "Enter Number : 86\n"
     ]
    }
   ],
   "source": [
    "a=int(input(\"Enter Number : \"))"
   ]
  },
  {
   "cell_type": "code",
   "execution_count": 18,
   "metadata": {},
   "outputs": [
    {
     "name": "stdout",
     "output_type": "stream",
     "text": [
      "Positive Number\n"
     ]
    }
   ],
   "source": [
    "if a > 0:\n",
    "    print(\"Positive Number\")\n",
    "elif a < 0:\n",
    "    print(\"Negative Number\")\n",
    "else:\n",
    "    print(\"Number is 0\")"
   ]
  },
  {
   "cell_type": "markdown",
   "metadata": {},
   "source": [
    "# Q11:"
   ]
  },
  {
   "cell_type": "raw",
   "metadata": {},
   "source": [
    "Write a Python program which accepts the radius of a circle from the user and compute the\n",
    "area."
   ]
  },
  {
   "cell_type": "code",
   "execution_count": 24,
   "metadata": {},
   "outputs": [
    {
     "name": "stdout",
     "output_type": "stream",
     "text": [
      "Enter the Radius of the Circle: 2.8\n",
      "Area of the Circle is: 24.63\n"
     ]
    }
   ],
   "source": [
    "import math\n",
    "radius = float(input(\"Enter the Radius of the Circle: \"))\n",
    "area = math.pi * (radius**2)\n",
    "area = round(area,2)\n",
    "print(\"Area of the Circle is: \"+str(area))"
   ]
  },
  {
   "cell_type": "markdown",
   "metadata": {},
   "source": [
    "# Q12:"
   ]
  },
  {
   "cell_type": "raw",
   "metadata": {},
   "source": [
    "Write a Python function to check whether a number is completely divisible by another\n",
    "number. Accept two integer values form the user"
   ]
  },
  {
   "cell_type": "code",
   "execution_count": 27,
   "metadata": {},
   "outputs": [
    {
     "name": "stdout",
     "output_type": "stream",
     "text": [
      "Enter the first Number: 16\n",
      "Enter the second Number: 4\n",
      "--------------------------------------------------------\n",
      "16.0 Number is completely Divisible by Number 4.0\n"
     ]
    }
   ],
   "source": [
    "number1 = float(input(\"Enter the first Number: \"))\n",
    "number2 = float(input(\"Enter the second Number: \"))\n",
    "print(\"--------------------------------------------------------\")\n",
    "if number1 % number2 == 0:\n",
    "    print(f\"{number1} Number is completely Divisible by Number {number2}\")\n",
    "else:\n",
    "    print(f\"{number1} Number is not Divisible by Number {number2}\")"
   ]
  },
  {
   "cell_type": "markdown",
   "metadata": {},
   "source": [
    "# Q13:"
   ]
  },
  {
   "cell_type": "raw",
   "metadata": {},
   "source": [
    "Write a Python program to find whether a given number (accept from the user) is even or\n",
    "odd, print out an appropriate message to the user."
   ]
  },
  {
   "cell_type": "code",
   "execution_count": 28,
   "metadata": {},
   "outputs": [
    {
     "name": "stdout",
     "output_type": "stream",
     "text": [
      "Enter a Number : 7\n"
     ]
    }
   ],
   "source": [
    "a = int(input(\"Enter a Number : \"))"
   ]
  },
  {
   "cell_type": "code",
   "execution_count": 29,
   "metadata": {},
   "outputs": [
    {
     "name": "stdout",
     "output_type": "stream",
     "text": [
      "Number is Odd!\n"
     ]
    }
   ],
   "source": [
    "if a % 2 == 0:\n",
    "    print(\"Number is Even!\")\n",
    "else:\n",
    "    print(\"Number is Odd!\")"
   ]
  },
  {
   "cell_type": "markdown",
   "metadata": {},
   "source": [
    "# Q14:"
   ]
  },
  {
   "cell_type": "raw",
   "metadata": {},
   "source": [
    " Print a suitable statement that uses their response. Such as, if they entered “Bangkok”: “I’d love to visit Bangkook more often”."
   ]
  },
  {
   "cell_type": "code",
   "execution_count": 38,
   "metadata": {},
   "outputs": [
    {
     "name": "stdout",
     "output_type": "stream",
     "text": [
      "Enter place :Karachi\n"
     ]
    }
   ],
   "source": [
    "place = input (\"Enter place :\").lower()"
   ]
  },
  {
   "cell_type": "code",
   "execution_count": 39,
   "metadata": {},
   "outputs": [
    {
     "name": "stdout",
     "output_type": "stream",
     "text": [
      "\"I'd love to visit karachi more often\"\n"
     ]
    }
   ],
   "source": [
    "if (place==\"karachi\"):\n",
    "    print(f\"\\\"I'd love to visit karachi more often\\\"\")\n",
    "else:\n",
    "    print(\"Don't want to visit\")"
   ]
  },
  {
   "cell_type": "markdown",
   "metadata": {},
   "source": [
    "# Q15:"
   ]
  },
  {
   "cell_type": "raw",
   "metadata": {},
   "source": [
    "Write an input line to ask a user whether they want to take the red pill or the blue pill.\n",
    "\n",
    " If they write “red” then print “You stay in wonderland and see how far the rabbit hole goes”.\n",
    " \n",
    " Elif they write “blue” then print “You wake up in your bed and believe what you want to believe.”.\n",
    " \n",
    " Else print “That’s not an option Neo.”"
   ]
  },
  {
   "cell_type": "code",
   "execution_count": 40,
   "metadata": {},
   "outputs": [
    {
     "name": "stdout",
     "output_type": "stream",
     "text": [
      "Do you want Red Pill or Blue Pill :Blue Pill\n"
     ]
    }
   ],
   "source": [
    "user = input (\"Do you want Red Pill or Blue Pill :\")"
   ]
  },
  {
   "cell_type": "code",
   "execution_count": 41,
   "metadata": {},
   "outputs": [
    {
     "name": "stdout",
     "output_type": "stream",
     "text": [
      "That's not an Option\n"
     ]
    }
   ],
   "source": [
    "val = user.lower()\n",
    "if (val==\"red\"):\n",
    "    print(\"You stay in wonderland and see how far the rabbit hole goes\")\n",
    "elif(val==\"blue\"):\n",
    "    print(\"You wake up in your bed and believe what you want to believe.\")\n",
    "else:\n",
    "    print(\"That's not an Option\")"
   ]
  }
 ],
 "metadata": {
  "kernelspec": {
   "display_name": "Python 3",
   "language": "python",
   "name": "python3"
  },
  "language_info": {
   "codemirror_mode": {
    "name": "ipython",
    "version": 3
   },
   "file_extension": ".py",
   "mimetype": "text/x-python",
   "name": "python",
   "nbconvert_exporter": "python",
   "pygments_lexer": "ipython3",
   "version": "3.6.4"
  }
 },
 "nbformat": 4,
 "nbformat_minor": 2
}
